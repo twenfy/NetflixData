{
  "nbformat": 4,
  "nbformat_minor": 0,
  "metadata": {
    "colab": {
      "name": "netflix_visualizations.ipynb",
      "version": "0.3.2",
      "provenance": []
    },
    "language_info": {
      "codemirror_mode": {
        "name": "ipython",
        "version": 3
      },
      "file_extension": ".py",
      "mimetype": "text/x-python",
      "name": "python",
      "nbconvert_exporter": "python",
      "pygments_lexer": "ipython3",
      "version": "3.6.4"
    },
    "kernelspec": {
      "display_name": "Python 3",
      "language": "python",
      "name": "python3"
    }
  },
  "cells": [
    {
      "cell_type": "markdown",
      "metadata": {
        "id": "v6vqkDmogXEt",
        "colab_type": "text"
      },
      "source": [
        "# Introduction\n",
        "\n",
        "In this project, you will act as a data visualization developer at Yahoo Finance! You will be helping the \"Netflix Stock Profile\" team visualize the Netflix stock data. In finance, a _stock profile_ is a series of studies, visualizations, and analyses that dive into different aspects a publicly traded company's data. \n",
        "\n",
        "For the purposes of the project, you will only visualize data for the year of 2017. Specifically, you will be in charge of creating the following visualizations:\n",
        "+ The distribution of the stock prices for the past year\n",
        "+ Netflix's earnings and revenue in the last four quarters\n",
        "+ The actual vs. estimated earnings per share for the four quarters in 2017\n",
        "+ A comparison of the Netflix Stock price vs the Dow Jones Industrial Average price in 2017 \n",
        "\n",
        "Note: We are using the Dow Jones Industrial Average to compare the Netflix stock to the larter stock market. Learn more about why the Dow Jones Industrial Average is a general reflection of the larger stock market [here](https://www.investopedia.com/terms/d/djia.asp).\n",
        "\n",
        "During this project, you will analyze, prepare, and plot data. Your visualizations will help the financial analysts asses the risk of the Netflix stock.\n",
        "\n",
        "After you complete your visualizations, you'll be creating a presentation to share the images with the rest of the Netflix Stock Profile team. Your slides should include:\n",
        "\n",
        "- A title slide\n",
        "- A list of your visualizations and your role in their creation for the \"Stock Profile\" team\n",
        "- A visualization of the distribution of the stock prices for Netflix in 2017\n",
        "- A visualization and a summary of Netflix stock and revenue for the past four quarters and a summary\n",
        "- A visualization and a brief summary of their earned versus actual earnings per share\n",
        "- A visualization of Netflix stock against the Dow Jones stock (to get a sense of the market) in 2017\n",
        "\n",
        "Financial Data Source: [Yahoo Finance](https://finance.yahoo.com/quote/DATA/)\n"
      ]
    },
    {
      "cell_type": "markdown",
      "metadata": {
        "id": "J64zy-m1gXEy",
        "colab_type": "text"
      },
      "source": [
        "## Step 1\n",
        "\n",
        "Let's get our notebook ready for visualizing! Import the modules that you'll be using in this project:\n",
        "- `from matplotlib import pyplot as plt`\n",
        "- `import pandas as pd`\n",
        "- `import seaborn as sns`"
      ]
    },
    {
      "cell_type": "code",
      "metadata": {
        "id": "orEZv6lmgXE2",
        "colab_type": "code",
        "colab": {}
      },
      "source": [
        "from matplotlib import pyplot as plt\n",
        "import pandas as pd\n",
        "import seaborn as sns"
      ],
      "execution_count": 0,
      "outputs": []
    },
    {
      "cell_type": "markdown",
      "metadata": {
        "id": "8GIKnNDVgXE6",
        "colab_type": "text"
      },
      "source": [
        "## Step 2"
      ]
    },
    {
      "cell_type": "markdown",
      "metadata": {
        "id": "EfHIoT2IgXE7",
        "colab_type": "text"
      },
      "source": [
        "Let's load the datasets and inspect them."
      ]
    },
    {
      "cell_type": "markdown",
      "metadata": {
        "id": "5hsSSKyPgXE8",
        "colab_type": "text"
      },
      "source": [
        "Load **NFLX.csv** into a DataFrame called `netflix_stocks`. Then, quickly inspect the DataFrame using `print()`.\n",
        "\n",
        "Hint: Use the `pd.read_csv()`function).\n",
        "\n",
        "Note: In the Yahoo Data, `Adj Close` represents the adjusted close price adjusted for both dividends and splits. This means this is the true closing stock price for a given business day."
      ]
    },
    {
      "cell_type": "code",
      "metadata": {
        "id": "rRqTC11lgXE9",
        "colab_type": "code",
        "colab": {
          "base_uri": "https://localhost:8080/",
          "height": 272
        },
        "outputId": "5c4494f6-c7d7-4f43-de10-8b72f74c4a85"
      },
      "source": [
        "url = \"https://raw.githubusercontent.com/twenfy/NetflixData/master/NFLX.csv\"\n",
        "\n",
        "netflix_stocks = pd.read_csv(url)\n",
        "\n",
        "print(netflix_stocks)"
      ],
      "execution_count": 8,
      "outputs": [
        {
          "output_type": "stream",
          "text": [
            "          Date        Open        High  ...       Close   Adj Close     Volume\n",
            "0   2017-01-01  124.959999  143.460007  ...  140.710007  140.710007  181772200\n",
            "1   2017-02-01  141.199997  145.949997  ...  142.130005  142.130005   91432000\n",
            "2   2017-03-01  142.839996  148.289993  ...  147.809998  147.809998  110692700\n",
            "3   2017-04-01  146.699997  153.520004  ...  152.199997  152.199997  149769200\n",
            "4   2017-05-01  151.910004  164.750000  ...  163.070007  163.070007  116795800\n",
            "5   2017-06-01  163.520004  166.869995  ...  149.410004  149.410004  135675800\n",
            "6   2017-07-01  149.800003  191.500000  ...  181.660004  181.660004  185144700\n",
            "7   2017-08-01  182.490005  184.619995  ...  174.710007  174.710007  136523100\n",
            "8   2017-09-01  175.550003  189.949997  ...  181.350006  181.350006  111427900\n",
            "9   2017-10-01  182.110001  204.380005  ...  196.429993  196.429993  208657800\n",
            "10  2017-11-01  197.240005  202.479996  ...  195.509995  195.509995  161719700\n",
            "11  2017-12-01  186.990005  194.490005  ...  191.960007  191.960007  115103700\n",
            "\n",
            "[12 rows x 7 columns]\n"
          ],
          "name": "stdout"
        }
      ]
    },
    {
      "cell_type": "markdown",
      "metadata": {
        "id": "HmMwOwHXgXFC",
        "colab_type": "text"
      },
      "source": [
        "Load **DJI.csv** into a DataFrame called `dowjones_stocks`. Then, quickly inspect the DataFrame using `print()`.\n",
        "\n",
        "Note: You can learn more about why the Dow Jones Industrial Average is a industry reflection of the larger stock market [here](https://www.investopedia.com/terms/d/djia.asp). \n"
      ]
    },
    {
      "cell_type": "code",
      "metadata": {
        "id": "iQMYkXCngXFF",
        "colab_type": "code",
        "colab": {
          "base_uri": "https://localhost:8080/",
          "height": 272
        },
        "outputId": "590b4935-36a3-4170-af02-c890235b5f2e"
      },
      "source": [
        "url_1 = \"https://raw.githubusercontent.com/twenfy/NetflixData/master/DJI.csv\"\n",
        "\n",
        "dowjones_stocks = pd.read_csv(url_1)\n",
        "\n",
        "print(dowjones_stocks)"
      ],
      "execution_count": 10,
      "outputs": [
        {
          "output_type": "stream",
          "text": [
            "          Date          Open  ...     Adj Close      Volume\n",
            "0   2017-01-01  19872.859375  ...  19864.089844  6482450000\n",
            "1   2017-02-01  19923.810547  ...  20812.240234  6185580000\n",
            "2   2017-03-01  20957.289063  ...  20663.220703  6941970000\n",
            "3   2017-04-01  20665.169922  ...  20940.509766  5392630000\n",
            "4   2017-05-01  20962.730469  ...  21008.650391  6613570000\n",
            "5   2017-06-01  21030.550781  ...  21349.630859  7214590000\n",
            "6   2017-07-01  21392.300781  ...  21891.119141  5569720000\n",
            "7   2017-08-01  21961.419922  ...  21948.099609  6150060000\n",
            "8   2017-09-01  21981.769531  ...  22405.089844  6342130000\n",
            "9   2017-10-01  22423.470703  ...  23377.240234  7302910000\n",
            "10  2017-11-01  23442.900391  ...  24272.349609  7335640000\n",
            "11  2017-12-01  24305.400391  ...  24719.220703  6589890000\n",
            "\n",
            "[12 rows x 7 columns]\n"
          ],
          "name": "stdout"
        }
      ]
    },
    {
      "cell_type": "markdown",
      "metadata": {
        "id": "K2Wnfc1ugXFL",
        "colab_type": "text"
      },
      "source": [
        "Load **NFLX_daily_by_quarter.csv** into a DataFrame called `netflix_stocks_quarterly`. Then, quickly inspect the DataFrame using `print()`.\n"
      ]
    },
    {
      "cell_type": "code",
      "metadata": {
        "id": "ZhEbz_gIgXFM",
        "colab_type": "code",
        "colab": {
          "base_uri": "https://localhost:8080/",
          "height": 1105
        },
        "outputId": "1626295a-4cd5-4231-8f91-6bd8530a0fdf"
      },
      "source": [
        "url_2 = \"https://raw.githubusercontent.com/twenfy/NetflixData/master/NFLX_daily_by_quarter.csv\"\n",
        "\n",
        "netflix_stocks_quarterly = pd.read_csv(url_2)\n",
        "\n",
        "print(netflix_stocks_quarterly)"
      ],
      "execution_count": 18,
      "outputs": [
        {
          "output_type": "stream",
          "text": [
            "           Date        Open        High  ...   Adj Close    Volume  Quarter\n",
            "0    2017-01-03  124.959999  128.190002  ...  127.489998   9437900       Q1\n",
            "1    2017-01-04  127.489998  130.169998  ...  129.410004   7843600       Q1\n",
            "2    2017-01-05  129.220001  132.750000  ...  131.809998  10185500       Q1\n",
            "3    2017-01-06  132.080002  133.880005  ...  131.070007  10657900       Q1\n",
            "4    2017-01-09  131.479996  131.990005  ...  130.949997   5766900       Q1\n",
            "5    2017-01-10  131.270004  132.220001  ...  129.889999   5985800       Q1\n",
            "6    2017-01-11  130.910004  131.500000  ...  130.500000   5615100       Q1\n",
            "7    2017-01-12  130.630005  130.850006  ...  129.179993   5388900       Q1\n",
            "8    2017-01-13  131.149994  133.929993  ...  133.699997  10515000       Q1\n",
            "9    2017-01-17  135.039993  135.399994  ...  132.889999  12183200       Q1\n",
            "10   2017-01-18  133.210007  133.649994  ...  133.259995  16168600       Q1\n",
            "11   2017-01-19  142.009995  143.460007  ...  138.410004  23203400       Q1\n",
            "12   2017-01-20  139.360001  140.789993  ...  138.600006   9497400       Q1\n",
            "13   2017-01-23  138.649994  139.490005  ...  137.389999   7433900       Q1\n",
            "14   2017-01-24  138.110001  140.929993  ...  140.110001   7754700       Q1\n",
            "15   2017-01-25  140.800003  141.389999  ...  139.520004   7238100       Q1\n",
            "16   2017-01-26  140.449997  141.210007  ...  138.960007   6038300       Q1\n",
            "17   2017-01-27  139.460007  142.490005  ...  142.449997   8323900       Q1\n",
            "18   2017-01-30  141.770004  141.970001  ...  141.220001   8122500       Q1\n",
            "19   2017-01-31  140.550003  141.830002  ...  140.710007   4411600       Q1\n",
            "20   2017-02-01  141.199997  142.410004  ...  140.779999   6033400       Q1\n",
            "21   2017-02-02  140.610001  141.039993  ...  139.199997   3462400       Q1\n",
            "22   2017-02-03  139.509995  140.639999  ...  140.250000   3512600       Q1\n",
            "23   2017-02-06  140.000000  141.000000  ...  140.970001   3552100       Q1\n",
            "24   2017-02-07  141.490005  144.279999  ...  144.000000   8573500       Q1\n",
            "25   2017-02-08  143.570007  145.070007  ...  144.740005   6887100       Q1\n",
            "26   2017-02-09  144.979996  145.089996  ...  144.139999   4555100       Q1\n",
            "27   2017-02-10  144.679993  145.300003  ...  144.820007   6171900       Q1\n",
            "28   2017-02-13  145.190002  145.949997  ...  143.199997   4790400       Q1\n",
            "29   2017-02-14  143.199997  144.110001  ...  140.820007   8355000       Q1\n",
            "..          ...         ...         ...  ...         ...       ...      ...\n",
            "221  2017-11-16  194.330002  197.699997  ...  195.509995   5678400       Q4\n",
            "222  2017-11-17  195.740005  195.949997  ...  193.199997   3906300       Q4\n",
            "223  2017-11-20  193.300003  194.320007  ...  194.100006   3827500       Q4\n",
            "224  2017-11-21  195.039993  197.520004  ...  196.229996   4787300       Q4\n",
            "225  2017-11-22  196.580002  196.750000  ...  196.320007   5895400       Q4\n",
            "226  2017-11-24  196.649994  196.899994  ...  195.750000   2160500       Q4\n",
            "227  2017-11-27  195.559998  195.850006  ...  195.050003   3210100       Q4\n",
            "228  2017-11-28  195.339996  199.679993  ...  199.179993   6981100       Q4\n",
            "229  2017-11-29  198.910004  199.029999  ...  188.149994  14202700       Q4\n",
            "230  2017-11-30  190.309998  190.860001  ...  187.580002   6630100       Q4\n",
            "231  2017-12-01  186.990005  189.800003  ...  186.820007   6219500       Q4\n",
            "232  2017-12-04  189.360001  189.720001  ...  184.039993   9069800       Q4\n",
            "233  2017-12-05  183.500000  188.139999  ...  184.210007   5783700       Q4\n",
            "234  2017-12-06  183.380005  186.479996  ...  185.300003   5490100       Q4\n",
            "235  2017-12-07  185.710007  187.339996  ...  185.199997   4659500       Q4\n",
            "236  2017-12-08  186.500000  189.419998  ...  188.539993   4987300       Q4\n",
            "237  2017-12-11  187.850006  189.419998  ...  186.220001   5298600       Q4\n",
            "238  2017-12-12  186.009995  187.850006  ...  185.729996   4265900       Q4\n",
            "239  2017-12-13  186.100006  188.690002  ...  187.860001   4710000       Q4\n",
            "240  2017-12-14  187.979996  192.639999  ...  189.559998   7792800       Q4\n",
            "241  2017-12-15  189.610001  191.429993  ...  190.119995   7285600       Q4\n",
            "242  2017-12-18  191.199997  191.649994  ...  190.419998   5011000       Q4\n",
            "243  2017-12-19  190.179993  190.300003  ...  187.020004   7033000       Q4\n",
            "244  2017-12-20  187.940002  189.110001  ...  188.820007   6545400       Q4\n",
            "245  2017-12-21  189.440002  190.949997  ...  188.619995   4729800       Q4\n",
            "246  2017-12-22  188.330002  190.949997  ...  189.940002   3878900       Q4\n",
            "247  2017-12-26  189.779999  189.940002  ...  187.759995   3045700       Q4\n",
            "248  2017-12-27  187.800003  188.100006  ...  186.240005   4002100       Q4\n",
            "249  2017-12-28  187.179993  194.490005  ...  192.710007  10107400       Q4\n",
            "250  2017-12-29  192.509995  193.949997  ...  191.960007   5187600       Q4\n",
            "\n",
            "[251 rows x 8 columns]\n"
          ],
          "name": "stdout"
        }
      ]
    },
    {
      "cell_type": "markdown",
      "metadata": {
        "id": "FyQqhlBYgXFQ",
        "colab_type": "text"
      },
      "source": [
        "## Step 3"
      ]
    },
    {
      "cell_type": "markdown",
      "metadata": {
        "id": "vyiR-pU_gXFR",
        "colab_type": "text"
      },
      "source": [
        "Let's learn more about our data. The datasets are large and it may be easier to view the entire dataset locally on your computer. Open the CSV files directly from the folder you downloaded for this project.\n",
        " - `NFLX` is the stock ticker symbol for Netflix and `^DJI` is the stock ticker symbol for the Dow Jones industrial Average, which is why the CSV files are named accordingly\n",
        " - In the Yahoo Data, `Adj Close` is documented as adjusted close price adjusted for both dividends and splits.\n",
        " - You can learn more about why the Dow Jones Industrial Average is a industry reflection of the larger stock market [here](https://www.investopedia.com/terms/d/djia.asp). \n",
        " \n",
        "Answer the following questions by inspecting the data in the **NFLX.csv**,**DJI.csv**, and **NFLX_daily_by_quarter.csv** in your computer."
      ]
    },
    {
      "cell_type": "markdown",
      "metadata": {
        "id": "AzCtmfaTgXFS",
        "colab_type": "text"
      },
      "source": [
        "What year is represented in the data? Look out for the latest and earliest date."
      ]
    },
    {
      "cell_type": "code",
      "metadata": {
        "id": "s1C62_NegXFT",
        "colab_type": "code",
        "colab": {}
      },
      "source": [
        ""
      ],
      "execution_count": 0,
      "outputs": []
    },
    {
      "cell_type": "markdown",
      "metadata": {
        "id": "5RUaZfztgXFZ",
        "colab_type": "text"
      },
      "source": [
        "+ Is the data represented by days, weeks, or months? \n",
        "+ In which ways are the files different? \n",
        "+ What's different about the columns for `netflix_stocks` versus `netflix_stocks_quarterly`?"
      ]
    },
    {
      "cell_type": "code",
      "metadata": {
        "id": "lm2LdOcOgXFZ",
        "colab_type": "code",
        "colab": {}
      },
      "source": [
        ""
      ],
      "execution_count": 0,
      "outputs": []
    },
    {
      "cell_type": "markdown",
      "metadata": {
        "id": "6R7ciyX_gXFi",
        "colab_type": "text"
      },
      "source": [
        "## Step 4\n",
        "\n",
        "Great! Now that we have spent sometime looking at the data, let's look at the column names of the DataFrame `netflix_stocks` using `.head()`. "
      ]
    },
    {
      "cell_type": "code",
      "metadata": {
        "id": "5XUdHPpwgXFj",
        "colab_type": "code",
        "colab": {
          "base_uri": "https://localhost:8080/",
          "height": 153
        },
        "outputId": "0755c828-b8d6-4670-aa4f-c4c6a3907807"
      },
      "source": [
        "netflix_stocks.head()\n",
        "\n",
        "print(netflix_stocks.head())\n"
      ],
      "execution_count": 12,
      "outputs": [
        {
          "output_type": "stream",
          "text": [
            "         Date        Open        High  ...       Close   Adj Close     Volume\n",
            "0  2017-01-01  124.959999  143.460007  ...  140.710007  140.710007  181772200\n",
            "1  2017-02-01  141.199997  145.949997  ...  142.130005  142.130005   91432000\n",
            "2  2017-03-01  142.839996  148.289993  ...  147.809998  147.809998  110692700\n",
            "3  2017-04-01  146.699997  153.520004  ...  152.199997  152.199997  149769200\n",
            "4  2017-05-01  151.910004  164.750000  ...  163.070007  163.070007  116795800\n",
            "\n",
            "[5 rows x 7 columns]\n"
          ],
          "name": "stdout"
        }
      ]
    },
    {
      "cell_type": "markdown",
      "metadata": {
        "id": "DStrD2G4gXFy",
        "colab_type": "text"
      },
      "source": [
        "What do you notice? The first two column names are one word each, and the only one that is not is `Adj Close`! \n",
        "\n",
        "The term `Adj Close` is a confusing term if you don't read the Yahoo Documentation. In Yahoo, `Adj Close` is documented as adjusted close price adjusted for both dividends and splits.\n",
        "\n",
        "This means this is the column with the true closing price, so these data are very important.\n",
        "\n",
        "Use Pandas to change the name of of the column to `Adj Close` to `Price` so that it is easier to work with the data. Remember to use `inplace=True`.\n",
        "\n",
        "Do this for the Dow Jones and Netflix Quarterly pandas dataframes as well.\n",
        "Hint: Use [`.rename()`](https://pandas.pydata.org/pandas-docs/stable/generated/pandas.DataFrame.rename.html)).\n"
      ]
    },
    {
      "cell_type": "code",
      "metadata": {
        "id": "zC_XHJFvgXFz",
        "colab_type": "code",
        "colab": {}
      },
      "source": [
        "netflix_stocks.rename(columns = {\n",
        "                     \n",
        "                     \"Adj Close\" : \"Price\"},\n",
        "                    inplace = True  \n",
        "                     )"
      ],
      "execution_count": 0,
      "outputs": []
    },
    {
      "cell_type": "markdown",
      "metadata": {
        "id": "FBddV72vgXF5",
        "colab_type": "text"
      },
      "source": [
        "Run `netflix_stocks.head()` again to check your column name has changed."
      ]
    },
    {
      "cell_type": "code",
      "metadata": {
        "id": "J3P9yjdkgXF6",
        "colab_type": "code",
        "colab": {
          "base_uri": "https://localhost:8080/",
          "height": 204
        },
        "outputId": "3636b4aa-ab36-43e2-a799-613eb1d64796"
      },
      "source": [
        "netflix_stocks.head()"
      ],
      "execution_count": 36,
      "outputs": [
        {
          "output_type": "execute_result",
          "data": {
            "text/html": [
              "<div>\n",
              "<style scoped>\n",
              "    .dataframe tbody tr th:only-of-type {\n",
              "        vertical-align: middle;\n",
              "    }\n",
              "\n",
              "    .dataframe tbody tr th {\n",
              "        vertical-align: top;\n",
              "    }\n",
              "\n",
              "    .dataframe thead th {\n",
              "        text-align: right;\n",
              "    }\n",
              "</style>\n",
              "<table border=\"1\" class=\"dataframe\">\n",
              "  <thead>\n",
              "    <tr style=\"text-align: right;\">\n",
              "      <th></th>\n",
              "      <th>Date</th>\n",
              "      <th>Open</th>\n",
              "      <th>High</th>\n",
              "      <th>Low</th>\n",
              "      <th>Close</th>\n",
              "      <th>Price</th>\n",
              "      <th>Volume</th>\n",
              "    </tr>\n",
              "  </thead>\n",
              "  <tbody>\n",
              "    <tr>\n",
              "      <th>0</th>\n",
              "      <td>2017-01-01</td>\n",
              "      <td>124.959999</td>\n",
              "      <td>143.460007</td>\n",
              "      <td>124.309998</td>\n",
              "      <td>140.710007</td>\n",
              "      <td>140.710007</td>\n",
              "      <td>181772200</td>\n",
              "    </tr>\n",
              "    <tr>\n",
              "      <th>1</th>\n",
              "      <td>2017-02-01</td>\n",
              "      <td>141.199997</td>\n",
              "      <td>145.949997</td>\n",
              "      <td>139.050003</td>\n",
              "      <td>142.130005</td>\n",
              "      <td>142.130005</td>\n",
              "      <td>91432000</td>\n",
              "    </tr>\n",
              "    <tr>\n",
              "      <th>2</th>\n",
              "      <td>2017-03-01</td>\n",
              "      <td>142.839996</td>\n",
              "      <td>148.289993</td>\n",
              "      <td>138.259995</td>\n",
              "      <td>147.809998</td>\n",
              "      <td>147.809998</td>\n",
              "      <td>110692700</td>\n",
              "    </tr>\n",
              "    <tr>\n",
              "      <th>3</th>\n",
              "      <td>2017-04-01</td>\n",
              "      <td>146.699997</td>\n",
              "      <td>153.520004</td>\n",
              "      <td>138.660004</td>\n",
              "      <td>152.199997</td>\n",
              "      <td>152.199997</td>\n",
              "      <td>149769200</td>\n",
              "    </tr>\n",
              "    <tr>\n",
              "      <th>4</th>\n",
              "      <td>2017-05-01</td>\n",
              "      <td>151.910004</td>\n",
              "      <td>164.750000</td>\n",
              "      <td>151.610001</td>\n",
              "      <td>163.070007</td>\n",
              "      <td>163.070007</td>\n",
              "      <td>116795800</td>\n",
              "    </tr>\n",
              "  </tbody>\n",
              "</table>\n",
              "</div>"
            ],
            "text/plain": [
              "         Date        Open        High  ...       Close       Price     Volume\n",
              "0  2017-01-01  124.959999  143.460007  ...  140.710007  140.710007  181772200\n",
              "1  2017-02-01  141.199997  145.949997  ...  142.130005  142.130005   91432000\n",
              "2  2017-03-01  142.839996  148.289993  ...  147.809998  147.809998  110692700\n",
              "3  2017-04-01  146.699997  153.520004  ...  152.199997  152.199997  149769200\n",
              "4  2017-05-01  151.910004  164.750000  ...  163.070007  163.070007  116795800\n",
              "\n",
              "[5 rows x 7 columns]"
            ]
          },
          "metadata": {
            "tags": []
          },
          "execution_count": 36
        }
      ]
    },
    {
      "cell_type": "markdown",
      "metadata": {
        "id": "kiZcPOorgXF9",
        "colab_type": "text"
      },
      "source": [
        "[texte du lien](https://)Call `.head()` on the DataFrame `dowjones_stocks` and `netflix_stocks_quarterly`."
      ]
    },
    {
      "cell_type": "code",
      "metadata": {
        "id": "SNMDyv7-gXF-",
        "colab_type": "code",
        "colab": {
          "base_uri": "https://localhost:8080/",
          "height": 204
        },
        "outputId": "1ad80486-1457-4469-9c00-acd4dac6e06e"
      },
      "source": [
        "dowjones_stocks.head()\n",
        "\n",
        "netflix_stocks_quarterly.head()\n",
        "\n",
        "\n",
        "\n",
        "\n"
      ],
      "execution_count": 38,
      "outputs": [
        {
          "output_type": "execute_result",
          "data": {
            "text/html": [
              "<div>\n",
              "<style scoped>\n",
              "    .dataframe tbody tr th:only-of-type {\n",
              "        vertical-align: middle;\n",
              "    }\n",
              "\n",
              "    .dataframe tbody tr th {\n",
              "        vertical-align: top;\n",
              "    }\n",
              "\n",
              "    .dataframe thead th {\n",
              "        text-align: right;\n",
              "    }\n",
              "</style>\n",
              "<table border=\"1\" class=\"dataframe\">\n",
              "  <thead>\n",
              "    <tr style=\"text-align: right;\">\n",
              "      <th></th>\n",
              "      <th>Date</th>\n",
              "      <th>Open</th>\n",
              "      <th>High</th>\n",
              "      <th>Low</th>\n",
              "      <th>Close</th>\n",
              "      <th>Price</th>\n",
              "      <th>Volume</th>\n",
              "      <th>Quarter</th>\n",
              "    </tr>\n",
              "  </thead>\n",
              "  <tbody>\n",
              "    <tr>\n",
              "      <th>0</th>\n",
              "      <td>2017-01-03</td>\n",
              "      <td>124.959999</td>\n",
              "      <td>128.190002</td>\n",
              "      <td>124.309998</td>\n",
              "      <td>127.489998</td>\n",
              "      <td>127.489998</td>\n",
              "      <td>9437900</td>\n",
              "      <td>Q1</td>\n",
              "    </tr>\n",
              "    <tr>\n",
              "      <th>1</th>\n",
              "      <td>2017-01-04</td>\n",
              "      <td>127.489998</td>\n",
              "      <td>130.169998</td>\n",
              "      <td>126.550003</td>\n",
              "      <td>129.410004</td>\n",
              "      <td>129.410004</td>\n",
              "      <td>7843600</td>\n",
              "      <td>Q1</td>\n",
              "    </tr>\n",
              "    <tr>\n",
              "      <th>2</th>\n",
              "      <td>2017-01-05</td>\n",
              "      <td>129.220001</td>\n",
              "      <td>132.750000</td>\n",
              "      <td>128.899994</td>\n",
              "      <td>131.809998</td>\n",
              "      <td>131.809998</td>\n",
              "      <td>10185500</td>\n",
              "      <td>Q1</td>\n",
              "    </tr>\n",
              "    <tr>\n",
              "      <th>3</th>\n",
              "      <td>2017-01-06</td>\n",
              "      <td>132.080002</td>\n",
              "      <td>133.880005</td>\n",
              "      <td>129.809998</td>\n",
              "      <td>131.070007</td>\n",
              "      <td>131.070007</td>\n",
              "      <td>10657900</td>\n",
              "      <td>Q1</td>\n",
              "    </tr>\n",
              "    <tr>\n",
              "      <th>4</th>\n",
              "      <td>2017-01-09</td>\n",
              "      <td>131.479996</td>\n",
              "      <td>131.990005</td>\n",
              "      <td>129.889999</td>\n",
              "      <td>130.949997</td>\n",
              "      <td>130.949997</td>\n",
              "      <td>5766900</td>\n",
              "      <td>Q1</td>\n",
              "    </tr>\n",
              "  </tbody>\n",
              "</table>\n",
              "</div>"
            ],
            "text/plain": [
              "         Date        Open        High  ...       Price    Volume  Quarter\n",
              "0  2017-01-03  124.959999  128.190002  ...  127.489998   9437900       Q1\n",
              "1  2017-01-04  127.489998  130.169998  ...  129.410004   7843600       Q1\n",
              "2  2017-01-05  129.220001  132.750000  ...  131.809998  10185500       Q1\n",
              "3  2017-01-06  132.080002  133.880005  ...  131.070007  10657900       Q1\n",
              "4  2017-01-09  131.479996  131.990005  ...  130.949997   5766900       Q1\n",
              "\n",
              "[5 rows x 8 columns]"
            ]
          },
          "metadata": {
            "tags": []
          },
          "execution_count": 38
        }
      ]
    },
    {
      "cell_type": "markdown",
      "metadata": {
        "id": "XzPiOS4ggXGA",
        "colab_type": "text"
      },
      "source": [
        "## Step 5\n",
        "\n",
        "In this step, we will be visualizing the Netflix quarterly data! \n",
        "\n",
        "We want to get an understanding of the distribution of the Netflix quarterly stock prices for 2017. Specifically, we want to see in which quarter stock prices flucutated the most. We can accomplish this using a violin plot with four violins, one for each business quarter!\n",
        "\n",
        "\n",
        "1. Start by creating a variable `ax` and setting it equal to `sns.violinplot()`. This will instantiate a figure and give us access to the axes through the variable name `ax`.\n",
        "2. Use `sns.violinplot()` and pass in the following arguments:\n",
        "+ The `Quarter` column as the `x` values\n",
        "+ The `Price` column as your `y` values\n",
        "+ The `netflix_stocks_quarterly` dataframe as your `data`\n",
        "3. Improve the readability of the chart by adding a title of the plot. Add `\"Distribution of 2017 Netflix Stock Prices by Quarter\"` by using `ax.set_title()`\n",
        "4. Change your `ylabel` to \"Closing Stock Price\"\n",
        "5. Change your `xlabel` to \"Business Quarters in 2017\"\n",
        "6. Be sure to show your plot!\n"
      ]
    },
    {
      "cell_type": "code",
      "metadata": {
        "scrolled": true,
        "id": "7nBvrU8igXGC",
        "colab_type": "code",
        "colab": {
          "base_uri": "https://localhost:8080/",
          "height": 295
        },
        "outputId": "c0cf6c9b-5797-44e9-a6d3-bd4af059dd9a"
      },
      "source": [
        "ax = sns.violinplot(x=\"Quarter\", y=\"Price\", data=netflix_stocks_quarterly)\n",
        "\n",
        "\n",
        "ax.set_title(\"Distribution of 2017 Netflix Stock Prices by Quarter\")\n",
        "\n",
        "ax.set_ylabel(\"Closing Stock Price\")\n",
        "ax.set_xlabel(\"Business Quarters in 2017\")\n",
        "\n",
        "\n",
        "plt.show()"
      ],
      "execution_count": 45,
      "outputs": [
        {
          "output_type": "display_data",
          "data": {
            "image/png": "[encoded data removed]",
            "text/plain": [
              "<Figure size 432x288 with 1 Axes>"
            ]
          },
          "metadata": {
            "tags": []
          }
        }
      ]
    },
    {
      "cell_type": "markdown",
      "metadata": {
        "id": "HwUYiN-igXGF",
        "colab_type": "text"
      },
      "source": [
        "## Graph Literacy\n",
        "- What are your first impressions looking at the visualized data?\n",
        "\n",
        "- In what range(s) did most of the prices fall throughout the year?\n",
        "\n",
        "- What were the highest and lowest prices? "
      ]
    },
    {
      "cell_type": "markdown",
      "metadata": {
        "id": "wIOpqrGXgXGJ",
        "colab_type": "text"
      },
      "source": [
        " "
      ]
    },
    {
      "cell_type": "markdown",
      "metadata": {
        "id": "EYMi-vWcgXGK",
        "colab_type": "text"
      },
      "source": [
        " "
      ]
    },
    {
      "cell_type": "markdown",
      "metadata": {
        "id": "5ZubbJsngXGK",
        "colab_type": "text"
      },
      "source": [
        "## Step 6\n",
        "\n",
        "Next, we will chart the performance of the earnings per share (EPS) by graphing the estimate Yahoo projected for the Quarter compared to the actual earnings for that quarters. We will accomplish this using a scatter chart. \n",
        "\n",
        "1. Plot the actual EPS by using `x_positions` and `earnings_actual` with the `plt.scatter()` function. Assign `red` as the color.\n",
        "2. Plot the actual EPS by using `x_positions` and `earnings_estimate` with the `plt.scatter()` function. Assign `blue` as the color\n",
        "\n",
        "3. Often, estimates and actual EPS are the same. To account for this, be sure to set your transparency  `alpha=0.5` to allow for visibility pf overlapping datapoint.\n",
        "4. Add a legend by using `plt.legend()` and passing in a list with two strings `[\"Actual\", \"Estimate\"]`\n",
        "\n",
        "5. Change the `x_ticks` label to reflect each quarter by using `plt.xticks(x_positions, chart_labels)`\n",
        "6. Assing \"`\"Earnings Per Share in Cents\"` as the title of your plot.\n"
      ]
    },
    {
      "cell_type": "code",
      "metadata": {
        "id": "X3V4JU1ZgXGL",
        "colab_type": "code",
        "colab": {
          "base_uri": "https://localhost:8080/",
          "height": 499
        },
        "outputId": "4ff4d62f-d3ad-49b7-b9b9-51bfbe10f8e1"
      },
      "source": [
        "plt.figure(figsize=(16,8))\n",
        "\n",
        "x_positions = [1, 2, 3, 4]\n",
        "chart_labels = [\"1Q2017\",\"2Q2017\",\"3Q2017\",\"4Q2017\"]\n",
        "earnings_actual =[.4, .15,.29,.41]\n",
        "earnings_estimate = [.37,.15,.32,.41 ]\n",
        "\n",
        "plt.scatter(x_positions, earnings_actual, color='red')\n",
        "plt.scatter(x_positions, earnings_estimate, color='blue', alpha=0.5)\n",
        "plt.legend([\"Actual\", \"Estimate\"])\n",
        "plt.xticks(x_positions, chart_labels)\n",
        "\n",
        "plt.title(\"Earnings Per Share in Cents\")\n",
        "\n",
        "plt.show()\n",
        "\n",
        "\n",
        "\n",
        "\n"
      ],
      "execution_count": 122,
      "outputs": [
        {
          "output_type": "display_data",
          "data": {
            "image/png": "[encoded data removed]",
            "text/plain": [
              "<Figure size 1152x576 with 1 Axes>"
            ]
          },
          "metadata": {
            "tags": []
          }
        }
      ]
    },
    {
      "cell_type": "markdown",
      "metadata": {
        "collapsed": true,
        "id": "vIPWkHHSgXGN",
        "colab_type": "text"
      },
      "source": [
        "## Graph Literacy\n",
        "\n",
        "+ What do the purple dots tell us about the actual and estimate earnings per share in this graph? Hint: In color theory red and blue mix to make purple.\n"
      ]
    },
    {
      "cell_type": "markdown",
      "metadata": {
        "id": "670URkwagXGO",
        "colab_type": "text"
      },
      "source": [
        " "
      ]
    },
    {
      "cell_type": "markdown",
      "metadata": {
        "id": "O85baZiOgXGO",
        "colab_type": "text"
      },
      "source": [
        " "
      ]
    },
    {
      "cell_type": "markdown",
      "metadata": {
        "id": "3BrpYZv4gXGP",
        "colab_type": "text"
      },
      "source": [
        "## Step 7"
      ]
    },
    {
      "cell_type": "markdown",
      "metadata": {
        "id": "iNJAj3b7gXGQ",
        "colab_type": "text"
      },
      "source": [
        "Next, we will visualize the earnings and revenue reported by Netflix by mapping two bars side-by-side. We have visualized a similar chart in the second Matplotlib lesson [Exercise 4](https://www.codecademy.com/courses/learn-matplotlib/lessons/matplotlib-ii/exercises/side-by-side-bars).\n",
        "\n",
        "As you may recall, plotting side-by-side bars in Matplotlib requires computing the width of each bar before hand. We have pasted the starter code for that exercise below. \n",
        "\n",
        "1. Fill in the `n`, `t`, `d`, `w` values for the revenue bars\n",
        "2. Plot the revenue bars by calling `plt.bar()` with the newly computed `x_values` and the `revenue_by_quarter` data\n",
        "3. Fill in the `n`, `t`, `d`, `w` values for the earnings bars\n",
        "4. Plot the revenue bars by calling `plt.bar()` with the newly computed `x_values` and the `earnings_by_quarter` data\n",
        "5. Create a legend for your bar chart with the `labels` provided\n",
        "6. Add a descriptive title for your chart with `plt.title()`\n",
        "7. Add labels to each quarter by assigning the position of the ticks through the code provided. Hint:  `plt.xticks(middle_x, quarter_labels)`\n",
        "8. Be sure to show your plot!\n"
      ]
    },
    {
      "cell_type": "code",
      "metadata": {
        "id": "msJU_XemgXGQ",
        "colab_type": "code",
        "colab": {
          "base_uri": "https://localhost:8080/",
          "height": 499
        },
        "outputId": "ad0c020d-bdb5-4cd8-ab29-e59dfa97d395"
      },
      "source": [
        "plt.figure(figsize=(16,8))\n",
        "\n",
        "\n",
        "# The metrics below are in billions of dollars\n",
        "revenue_by_quarter = [2.79, 2.98,3.29,3.7]\n",
        "earnings_by_quarter = [.0656,.12959,.18552,.29012]\n",
        "quarter_labels = [\"2Q2017\",\"3Q2017\",\"4Q2017\", \"1Q2018\"]\n",
        "\n",
        "# Revenue\n",
        "n = 1  # This is our first dataset (out of 2)\n",
        "t = 2 # Number of dataset\n",
        "d = 4 # Number of sets of bars\n",
        "w = 2 # Width of each bar\n",
        "bars1_x = [t*element + w*n for element\n",
        "             in range(d)]\n",
        "\n",
        "plt.bar(bars1_x,revenue_by_quarter)\n",
        "\n",
        "# Earnings\n",
        "n = 2  # This is our second dataset (out of 2)\n",
        "t = 2 # Number of dataset\n",
        "d = 4 # Number of sets of bars\n",
        "w = 2 # Width of each bar\n",
        "bars2_x = [t*element + w*n for element\n",
        "             in range(d)]\n",
        "\n",
        "plt.bar(bars2_x,earnings_by_quarter)\n",
        "\n",
        "\n",
        "middle_x = [ (a + b) / 2.0 for a, b in zip(bars1_x, bars2_x)]\n",
        "\n",
        "labels = [\"Revenue\", \"Earnings\"]\n",
        "\n",
        "plt.legend(labels)\n",
        "\n",
        "plt.title(\"Revenue & Earning\")\n",
        "\n",
        "plt.xticks(middle_x,quarter_labels)\n",
        "\n",
        "plt.bar(middle_x,revenue_by_quarter)\n",
        "\n",
        "plt.show()\n",
        "\n"
      ],
      "execution_count": 121,
      "outputs": [
        {
          "output_type": "display_data",
          "data": {
            "image/png": "[encoded data removed]",
            "text/plain": [
              "<Figure size 1152x576 with 1 Axes>"
            ]
          },
          "metadata": {
            "tags": []
          }
        }
      ]
    },
    {
      "cell_type": "markdown",
      "metadata": {
        "id": "_nX4-svXgXGl",
        "colab_type": "text"
      },
      "source": [
        "## Graph Literacy\n",
        "What are your first impressions looking at the visualized data?\n",
        "\n",
        "- Does Revenue follow a trend?\n",
        "- Do Earnings follow a trend?\n",
        "- Roughly, what percentage of the revenue constitutes earnings?"
      ]
    },
    {
      "cell_type": "code",
      "metadata": {
        "id": "XxkP30bAgXGm",
        "colab_type": "code",
        "colab": {}
      },
      "source": [
        "Yes Revenue follow a trend \n",
        "\n",
        "Yes earning follow a trend \n",
        "\n",
        "5% "
      ],
      "execution_count": 0,
      "outputs": []
    },
    {
      "cell_type": "markdown",
      "metadata": {
        "id": "143Rsp-cgXGp",
        "colab_type": "text"
      },
      "source": [
        "## Step 8\n",
        "\n",
        "In this last step, we will compare Netflix stock to the Dow Jones Industrial Average in 2017. We will accomplish this by plotting two line charts side by side in one figure. \n",
        "\n",
        "Since `Price` which is the most relevant data is in the Y axis, let's map our subplots to align vertically side by side.\n",
        "- We have set up the code for you on line 1 in the cell below. Complete the figure by passing the following arguments to `plt.subplots()` for the first plot, and tweaking the third argument for the second plot\n",
        "    - `1`-- the number of rows for the subplots\n",
        "    - `2` -- the number of columns for the subplots\n",
        "    - `1` -- the subplot you are modifying\n",
        "\n",
        "- Chart the Netflix Stock Prices in the left-hand subplot. Using your data frame, access the `Date` and `Price` charts as the x and y axes respectively. Hint: (`netflix_stocks['Date'], netflix_stocks['Price']`)\n",
        "- Assign \"Netflix\" as a title to this subplot. Hint: `ax1.set_title()`\n",
        "- For each subplot, `set_xlabel` to `\"Date\"` and `set_ylabel` to `\"Stock Price\"`\n",
        "- Chart the Dow Jones Stock Prices in the left-hand subplot. Using your data frame, access the `Date` and `Price` charts as the x and y axes respectively. Hint: (`dowjones_stocks['Date'], dowjones_stocks['Price']`)\n",
        "- Assign \"Dow Jones\" as a title to this subplot. Hint: `plt.set_title()`\n",
        "- There is some crowding in the Y axis labels, add some space by calling `plt.subplots_adjust(wspace=.5)`\n",
        "- Be sure to `.show()` your plots.\n"
      ]
    },
    {
      "cell_type": "code",
      "metadata": {
        "id": "49AvGFNWgXGq",
        "colab_type": "code",
        "colab": {
          "base_uri": "https://localhost:8080/",
          "height": 93
        },
        "outputId": "a8012654-bd31-4b09-b5a6-a2a32f617c9c"
      },
      "source": [
        "\n",
        "# Left plot Netflix\n",
        "ax1 = plt.subplot(12, 7, 1)\n",
        "\n",
        "plt.plot(netflix_stocks['Date'], netflix_stocks['Price'], color='red')\n",
        "\n",
        "\n",
        "# Right plot Dow Jones\n",
        "ax2 = plt.subplot(12, 7, 2)\n",
        "\n",
        "plt.plot(dowjones_stocks['Date'], dowjones_stocks['Price'])\n",
        "\n",
        "plt.subplots_adjust(wspace=.5)\n",
        "\n",
        "plt.legend([\"Netflix\",\"Dow Jones\"])\n",
        "\n",
        "plt.title(\"Netflix stock to the Dow Jones Industrial Average in 2017\")\n",
        "\n",
        "plt.xlabel(\"Date\")\n",
        "plt.ylabel(\"Price\")\n",
        "\n",
        "plt.show()\n",
        "\n",
        "\n"
      ],
      "execution_count": 131,
      "outputs": [
        {
          "output_type": "display_data",
          "data": {
            "image/png": "[encoded data removed]",
            "text/plain": [
              "<Figure size 432x288 with 2 Axes>"
            ]
          },
          "metadata": {
            "tags": []
          }
        }
      ]
    },
    {
      "cell_type": "markdown",
      "metadata": {
        "id": "vkE_9OLAgXGt",
        "colab_type": "text"
      },
      "source": [
        "- How did Netflix perform relative to Dow Jones Industrial Average in 2017?\n",
        "- Which was more volatile?\n",
        "- How do the prices of the stocks compare?"
      ]
    },
    {
      "cell_type": "markdown",
      "metadata": {
        "id": "rRhqFM3RgXGu",
        "colab_type": "text"
      },
      "source": [
        " "
      ]
    },
    {
      "cell_type": "markdown",
      "metadata": {
        "id": "P8eyZsUFgXGu",
        "colab_type": "text"
      },
      "source": [
        "# Step 9\n",
        "\n",
        "It's time to make your presentation! Save each of your visualizations as a png file with `plt.savefig(\"filename.png\")`.\n",
        "\n",
        "As you prepare your slides, think about the answers to the graph literacy questions. Embed your observations in the narrative of your slideshow!\n",
        "\n",
        "Remember that your slideshow must include:\n",
        "- A title slide\n",
        "- A list of your visualizations and your role in their creation for the \"Stock Profile\" team\n",
        "- A visualization of the distribution of the stock prices for Netflix in 2017\n",
        "- A visualization and a summary of Netflix stock and revenue for the past four quarters and a summary\n",
        "- A visualization and a brief summary of their earned versus actual earnings per share\n",
        "- A visualization of Netflix stock against the Dow Jones stock (to get a sense of the market) in 2017\n"
      ]
    },
    {
      "cell_type": "code",
      "metadata": {
        "id": "xq8fr7eGgXGv",
        "colab_type": "code",
        "colab": {}
      },
      "source": [
        ""
      ],
      "execution_count": 0,
      "outputs": []
    }
  ]
}